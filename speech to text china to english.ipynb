{
 "cells": [
  {
   "cell_type": "code",
   "execution_count": null,
   "id": "bebd1a45-180f-4ded-843f-cace876e25f7",
   "metadata": {},
   "outputs": [
    {
     "name": "stdout",
     "output_type": "stream",
     "text": [
      "Please speak something...\n",
      "You said: hello\n"
     ]
    },
    {
     "data": {
      "application/vnd.jupyter.widget-view+json": {
       "model_id": "811c81cc352a4565bcffdd5e625b9026",
       "version_major": 2,
       "version_minor": 0
      },
      "text/plain": [
       "config.json:   0%|          | 0.00/1.40k [00:00<?, ?B/s]"
      ]
     },
     "metadata": {},
     "output_type": "display_data"
    },
    {
     "name": "stderr",
     "output_type": "stream",
     "text": [
      "C:\\Users\\newhp\\AppData\\Local\\Programs\\Python\\Python311\\Lib\\site-packages\\huggingface_hub\\file_download.py:149: UserWarning: `huggingface_hub` cache-system uses symlinks by default to efficiently store duplicated files but your machine does not support them in C:\\Users\\newhp\\.cache\\huggingface\\hub\\models--Helsinki-NLP--opus-mt-en-zh. Caching files will still work but in a degraded version that might require more space on your disk. This warning can be disabled by setting the `HF_HUB_DISABLE_SYMLINKS_WARNING` environment variable. For more details, see https://huggingface.co/docs/huggingface_hub/how-to-cache#limitations.\n",
      "To support symlinks on Windows, you either need to activate Developer Mode or to run Python as an administrator. In order to see activate developer mode, see this article: https://docs.microsoft.com/en-us/windows/apps/get-started/enable-your-device-for-development\n",
      "  warnings.warn(message)\n"
     ]
    },
    {
     "data": {
      "application/vnd.jupyter.widget-view+json": {
       "model_id": "022d7ebf3df3462baf05f93b9002b42a",
       "version_major": 2,
       "version_minor": 0
      },
      "text/plain": [
       "tf_model.h5:   0%|          | 0.00/313M [00:00<?, ?B/s]"
      ]
     },
     "metadata": {},
     "output_type": "display_data"
    }
   ],
   "source": [
    "import speech_recognition as sr\n",
    "from transformers import pipeline\n",
    "from gtts import gTTS\n",
    "import os\n",
    "\n",
    "# Function for speech recognition\n",
    "def speech_to_text():\n",
    "    recognizer = sr.Recognizer()\n",
    "    with sr.Microphone() as source:\n",
    "        print(\"Please speak something...\")\n",
    "        audio = recognizer.listen(source)\n",
    "    try:\n",
    "        text = recognizer.recognize_google(audio, language='en')\n",
    "        print(\"You said:\", text)\n",
    "        return text\n",
    "    except sr.UnknownValueError:\n",
    "        print(\"Sorry, could not understand the audio.\")\n",
    "    except sr.RequestError:\n",
    "        print(\"Could not request results; check your network connection.\")\n",
    "\n",
    "# Function for translating text to Chinese\n",
    "def translate_to_chinese(text):\n",
    "    translator = pipeline('translation_en_to_zh', model='Helsinki-NLP/opus-mt-en-zh')\n",
    "    translated = translator(text)\n",
    "    translated_text = translated[0]['translation_text']\n",
    "    print(\"Translated to Chinese:\", translated_text)\n",
    "    return translated_text\n",
    "\n",
    "# Function for translating text to English\n",
    "def translate_to_english(text):\n",
    "    translator = pipeline('translation_zh_to_en', model='Helsinki-NLP/opus-mt-zh-en')\n",
    "    translated = translator(text)\n",
    "    translated_text = translated[0]['translation_text']\n",
    "    print(\"Translated to English:\", translated_text)\n",
    "    return translated_text\n",
    "\n",
    "# Function for converting text to speech\n",
    "def text_to_speech(text, language):\n",
    "    speech = gTTS(text=text, lang=language, slow=False)\n",
    "    speech.save(f\"text_{language}.mp3\")\n",
    "    os.system(f\"start text_{language}.mp3\")\n",
    "\n",
    "# Example usage\n",
    "text_from_speech = speech_to_text()\n",
    "if text_from_speech:\n",
    "    translated_to_chinese = translate_to_chinese(text_from_speech)\n",
    "    translated_to_english = translate_to_english(translated_to_chinese)\n",
    "    \n",
    "    print(text_to_speech(text_from_speech, 'en'))  # Convert original text to English audio\n",
    "    print(text_to_speech(translated_to_chinese, 'zh-cn'))  # Convert translated text to Chinese audio\n",
    "    print(text_to_speech(translated_to_english, 'en'))  # Convert translated text back to English audio\n",
    "\n"
   ]
  },
  {
   "cell_type": "code",
   "execution_count": null,
   "id": "7673bd5b-1871-4e36-81cb-fbad9b559603",
   "metadata": {},
   "outputs": [],
   "source": []
  },
  {
   "cell_type": "code",
   "execution_count": null,
   "id": "fd48ae98-3db4-4d7d-985e-fab89519f377",
   "metadata": {},
   "outputs": [],
   "source": []
  }
 ],
 "metadata": {
  "kernelspec": {
   "display_name": "Python 3 (ipykernel)",
   "language": "python",
   "name": "python3"
  },
  "language_info": {
   "codemirror_mode": {
    "name": "ipython",
    "version": 3
   },
   "file_extension": ".py",
   "mimetype": "text/x-python",
   "name": "python",
   "nbconvert_exporter": "python",
   "pygments_lexer": "ipython3",
   "version": "3.11.7"
  }
 },
 "nbformat": 4,
 "nbformat_minor": 5
}
